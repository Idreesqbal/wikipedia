{
 "cells": [
  {
   "cell_type": "markdown",
   "metadata": {},
   "source": [
    "## Import libraries"
   ]
  },
  {
   "cell_type": "code",
   "execution_count": 2,
   "metadata": {},
   "outputs": [],
   "source": [
    "# Libraries for data manipulation and analysis\n",
    "import pandas as pd  # Handle structured data\n",
    "import numpy  # Numerical computations\n",
    "\n",
    "# Libraries for web requests and parsing\n",
    "import requests  # HTTP requests (e.g., APIs)\n",
    "import feedparser  # Parse RSS/Atom feeds\n",
    "\n",
    "# Libraries for database and time handling\n",
    "import datetime  # Work with dates and times\n",
    "import psycopg2  # Interact with PostgreSQL databases\n",
    "\n",
    "from dotenv import load_dotenv\n",
    "import os"
   ]
  },
  {
   "cell_type": "markdown",
   "metadata": {},
   "source": [
    "## Enhance the dataframe visibility"
   ]
  },
  {
   "cell_type": "code",
   "execution_count": 3,
   "metadata": {},
   "outputs": [],
   "source": [
    "# Configure pandas to improve DataFrame display\n",
    "pd.set_option('display.max_rows', None)  # Show all rows in output\n",
    "pd.set_option('display.max_columns', None)  # Show all columns in output\n",
    "pd.set_option('display.width', 1000)  # Set the maximum display width\n",
    "pd.set_option('display.colheader_justify', 'left')  # Align column headers to the left\n"
   ]
  },
  {
   "cell_type": "markdown",
   "metadata": {},
   "source": [
    "## PART 1: Extraction & Loading"
   ]
  },
  {
   "cell_type": "markdown",
   "metadata": {},
   "source": [
    "Part 1: Extract & Load\n",
    "Extract data from the English Wikipedia API using Python and load it into a simple database\n",
    "of your choice (e.g. Postgres, DuckDB). Choose a local setup and make sure to document\n",
    "how to reproduce it. Pick a database supported by dbt.\n",
    "1. Extract recent changes made on 31 October 2024 and all pages included in those\n",
    "changes.\n",
    "2. Load this data into your database; think about what data objects you create and\n",
    "what your pipeline looks like.\n",
    "3. Pay attention to readability, reusability and maintainability of your code. Document\n",
    "any classes, methods or scripts. Also, consider performance.\n",
    "Tip: use a query on the recent changes list to retrieve the data."
   ]
  },
  {
   "cell_type": "markdown",
   "metadata": {},
   "source": [
    "# Extraction"
   ]
  },
  {
   "cell_type": "code",
   "execution_count": 6,
   "metadata": {},
   "outputs": [
    {
     "name": "stdout",
     "output_type": "stream",
     "text": [
      "Request URL: https://en.wikipedia.org/w/api.php?action=query&list=recentchanges&rcstart=2024-11-01T00%3A00%3A00Z&rclimit=max&rcprop=title%7Ctimestamp%7Cuser%7Cuserid%7Ccomment&format=json\n"
     ]
    },
    {
     "data": {
      "text/html": [
       "<div>\n",
       "<style scoped>\n",
       "    .dataframe tbody tr th:only-of-type {\n",
       "        vertical-align: middle;\n",
       "    }\n",
       "\n",
       "    .dataframe tbody tr th {\n",
       "        vertical-align: top;\n",
       "    }\n",
       "\n",
       "    .dataframe thead th {\n",
       "        text-align: right;\n",
       "    }\n",
       "</style>\n",
       "<table border=\"1\" class=\"dataframe\">\n",
       "  <thead>\n",
       "    <tr style=\"text-align: right;\">\n",
       "      <th></th>\n",
       "      <th>type</th>\n",
       "      <th>ns</th>\n",
       "      <th>title</th>\n",
       "      <th>user</th>\n",
       "      <th>userid</th>\n",
       "      <th>timestamp</th>\n",
       "      <th>comment</th>\n",
       "      <th>anon</th>\n",
       "    </tr>\n",
       "  </thead>\n",
       "  <tbody>\n",
       "    <tr>\n",
       "      <th>0</th>\n",
       "      <td>edit</td>\n",
       "      <td>0</td>\n",
       "      <td>Agatha All Along (miniseries)</td>\n",
       "      <td>Rtkat3</td>\n",
       "      <td>275202</td>\n",
       "      <td>2024-11-01T00:00:00Z</td>\n",
       "      <td></td>\n",
       "      <td>NaN</td>\n",
       "    </tr>\n",
       "    <tr>\n",
       "      <th>1</th>\n",
       "      <td>categorize</td>\n",
       "      <td>14</td>\n",
       "      <td>Units and formations of the Union Army from De...</td>\n",
       "      <td>JJMC89 bot III</td>\n",
       "      <td>35936988</td>\n",
       "      <td>2024-11-01T00:00:00Z</td>\n",
       "      <td>[[:Ahl's Heavy Artillery Company]] removed fro...</td>\n",
       "      <td>NaN</td>\n",
       "    </tr>\n",
       "    <tr>\n",
       "      <th>2</th>\n",
       "      <td>categorize</td>\n",
       "      <td>14</td>\n",
       "      <td>Units and formations of the Union army from De...</td>\n",
       "      <td>JJMC89 bot III</td>\n",
       "      <td>35936988</td>\n",
       "      <td>2024-11-01T00:00:00Z</td>\n",
       "      <td>[[:Ahl's Heavy Artillery Company]] added to ca...</td>\n",
       "      <td>NaN</td>\n",
       "    </tr>\n",
       "    <tr>\n",
       "      <th>3</th>\n",
       "      <td>edit</td>\n",
       "      <td>0</td>\n",
       "      <td>Ahl's Heavy Artillery Company</td>\n",
       "      <td>JJMC89 bot III</td>\n",
       "      <td>35936988</td>\n",
       "      <td>2024-11-01T00:00:00Z</td>\n",
       "      <td>Moving [[:Category:Units and formations of the...</td>\n",
       "      <td>NaN</td>\n",
       "    </tr>\n",
       "    <tr>\n",
       "      <th>4</th>\n",
       "      <td>edit</td>\n",
       "      <td>0</td>\n",
       "      <td>Brad Pitt</td>\n",
       "      <td>GreenC bot</td>\n",
       "      <td>27823944</td>\n",
       "      <td>2024-10-31T23:59:59Z</td>\n",
       "      <td>Move 1 url. [[User:GreenC/WaybackMedic_2.5|Way...</td>\n",
       "      <td>NaN</td>\n",
       "    </tr>\n",
       "  </tbody>\n",
       "</table>\n",
       "</div>"
      ],
      "text/plain": [
       "         type  ns                                              title  \\\n",
       "0        edit   0                      Agatha All Along (miniseries)   \n",
       "1  categorize  14  Units and formations of the Union Army from De...   \n",
       "2  categorize  14  Units and formations of the Union army from De...   \n",
       "3        edit   0                      Ahl's Heavy Artillery Company   \n",
       "4        edit   0                                          Brad Pitt   \n",
       "\n",
       "             user    userid             timestamp  \\\n",
       "0          Rtkat3    275202  2024-11-01T00:00:00Z   \n",
       "1  JJMC89 bot III  35936988  2024-11-01T00:00:00Z   \n",
       "2  JJMC89 bot III  35936988  2024-11-01T00:00:00Z   \n",
       "3  JJMC89 bot III  35936988  2024-11-01T00:00:00Z   \n",
       "4      GreenC bot  27823944  2024-10-31T23:59:59Z   \n",
       "\n",
       "                                             comment anon  \n",
       "0                                                     NaN  \n",
       "1  [[:Ahl's Heavy Artillery Company]] removed fro...  NaN  \n",
       "2  [[:Ahl's Heavy Artillery Company]] added to ca...  NaN  \n",
       "3  Moving [[:Category:Units and formations of the...  NaN  \n",
       "4  Move 1 url. [[User:GreenC/WaybackMedic_2.5|Way...  NaN  "
      ]
     },
     "execution_count": 6,
     "metadata": {},
     "output_type": "execute_result"
    }
   ],
   "source": [
    "\n",
    "def fetch_recent_changes(start_date):\n",
    "    \"\"\"\n",
    "    Fetches recent changes from the MediaWiki API in JSON format and processes the response.\n",
    "\n",
    "    Args:\n",
    "        start_date (str): The starting date in ISO 8601 format (e.g., \"2024-10-31T00:00:00Z\").\n",
    "\n",
    "    Returns:\n",
    "        DataFrame: A dataset of recent changes with adjusted titles.\n",
    "    \"\"\"\n",
    "    # Base URL for the MediaWiki API\n",
    "    API_URL = \"https://en.wikipedia.org/w/api.php\"\n",
    "\n",
    "    # Define parameters for the API request\n",
    "    params = {\n",
    "        \"action\": \"query\",  # API action type\n",
    "        \"list\": \"recentchanges\",  # Fetch the list of recent changes\n",
    "        \"rcstart\": start_date,  # Start date for recent changes\n",
    "        \"rclimit\": \"max\",  # Maximum number of results allowed by the API(by default 500)\n",
    "        \"rcprop\": \"title|timestamp|user|userid|comment\",  # Properties to retrieve for each change\n",
    "        \"format\": \"json\"  # Response format\n",
    "    }\n",
    "\n",
    "    # Send a GET request to the API\n",
    "    response = requests.get(API_URL, params=params)\n",
    "    # Raise an HTTPError if the response contains an HTTP error status code\n",
    "    response.raise_for_status()\n",
    "\n",
    "    # Print the request URL for debugging purposes\n",
    "    print(\"Request URL:\", response.url)\n",
    "\n",
    "    # Extract the relevant data from the JSON response\n",
    "    data = response.json().get('query', {}).get('recentchanges', [])\n",
    "    \n",
    "    # Process titles to remove prefixes before the first colon (:)\n",
    "    for change in data:\n",
    "        if 'title' in change and \":\" in change['title']:\n",
    "            change['title'] = change['title'].split(\":\", 1)[-1]\n",
    "\n",
    "    return pd.DataFrame(data)\n",
    "\n",
    "# Example usage\n",
    "feed = fetch_recent_changes(\"2024-11-01T00:00:00Z\")\n",
    "feed.head()  # Output the processed feed\n",
    "\n"
   ]
  },
  {
   "cell_type": "markdown",
   "metadata": {},
   "source": [
    "# Loading\n",
    "\n",
    "You can select any database you prefer. For this walkthrough, we chose PostgreSQL, which is compatible with dbt for the next steps."
   ]
  },
  {
   "cell_type": "code",
   "execution_count": 10,
   "metadata": {},
   "outputs": [],
   "source": [
    "# Database connection parameters\n",
    "# Load environment variables from a .env file\n",
    "load_dotenv()\n",
    "# Database connection parameters\n",
    "db_params = {\n",
    "    \"dbname\": os.getenv(\"DB_NAME\"),  # Database name (replace with your database's name)\n",
    "    \"user\": os.getenv(\"DB_USER\"),    # PostgreSQL username (replace with your username)\n",
    "    \"password\": os.getenv(\"POSTGRES_PASSWORD\"),    # PostgreSQL password (replace with your password)\n",
    "    \"host\": \"localhost\",   # Host address (e.g., 'localhost' or a specific IP)\n",
    "    \"port\": 5432           # Port number (default for PostgreSQL is 5432)\n",
    "}\n"
   ]
  },
  {
   "cell_type": "code",
   "execution_count": 11,
   "metadata": {},
   "outputs": [],
   "source": [
    "def load_to_postgres(df, table_name, db_params):\n",
    "    \"\"\"\n",
    "    Loads data from a DataFrame into a PostgreSQL table.\n",
    "\n",
    "    Args:\n",
    "        df (pd.DataFrame): The DataFrame containing the data to be loaded.\n",
    "        table_name (str): The name of the PostgreSQL table to load data into.\n",
    "        db_params (dict): A dictionary of PostgreSQL connection parameters.\n",
    "    \"\"\"\n",
    "    try:\n",
    "        # Establish connection to PostgreSQL\n",
    "        with psycopg2.connect(**db_params) as conn:\n",
    "            with conn.cursor() as cursor:\n",
    "                # Dynamically generate column definitions\n",
    "                columns = \", \".join([\n",
    "                    f'\"{col}\" TEXT' if df[col].dtype == 'object' else\n",
    "                    f'\"{col}\" TIMESTAMP' if col == 'timestamp' else\n",
    "                    f'\"{col}\" INTEGER' if df[col].dtype == 'int64' else\n",
    "                    f'\"{col}\" REAL' if df[col].dtype == 'float64' else\n",
    "                    f'\"{col}\" VARCHAR'\n",
    "                    for col in df.columns\n",
    "                ])\n",
    "                \n",
    "                # Create table dynamically\n",
    "                cursor.execute(f\"\"\"\n",
    "                    CREATE TABLE IF NOT EXISTS public.{table_name} (\n",
    "                        {columns}\n",
    "                    );\n",
    "                \"\"\")\n",
    "\n",
    "                # Generate placeholders for SQL INSERT query\n",
    "                insert_query = f\"\"\"\n",
    "                    INSERT INTO public.{table_name} ({\", \".join([f'\"{col}\"' for col in df.columns])}) \n",
    "                    VALUES ({\", \".join([\"%s\"] * len(df.columns))})\n",
    "                \"\"\"\n",
    "\n",
    "                # Insert rows in a batch process\n",
    "                cursor.executemany(\n",
    "                    insert_query,\n",
    "                    df.where(pd.notnull(df), None).values.tolist()  # Replace NaNs with None for SQL compatibility\n",
    "                )\n",
    "                print(f\"Data loaded into table '{table_name}' successfully!\")\n",
    "\n",
    "    except Exception as e:\n",
    "        # Handle any errors that occur during the process\n",
    "        print(f\"Error: {e}\")\n",
    "\n"
   ]
  },
  {
   "cell_type": "code",
   "execution_count": 13,
   "metadata": {},
   "outputs": [
    {
     "name": "stdout",
     "output_type": "stream",
     "text": [
      "Data loaded into table 'wikipedia_api1' successfully!\n"
     ]
    }
   ],
   "source": [
    "\n",
    "load_to_postgres(feed, \"wikipedia_api1\", db_params)"
   ]
  },
  {
   "cell_type": "markdown",
   "metadata": {},
   "source": [
    "# PART2: Transformation with dbt AND Git implementation"
   ]
  },
  {
   "cell_type": "markdown",
   "metadata": {},
   "source": [
    "from dotenv import load_dotenv\n",
    "import os\n",
    "\n",
    "# Load environment variables from .env\n",
    "load_dotenv()\n",
    "\n",
    "# Print the environment variable (optional for debugging)\n",
    "print(os.getenv('DB_USER'))\n"
   ]
  }
 ],
 "metadata": {
  "kernelspec": {
   "display_name": "mediawiki_api",
   "language": "python",
   "name": "python3"
  },
  "language_info": {
   "codemirror_mode": {
    "name": "ipython",
    "version": 3
   },
   "file_extension": ".py",
   "mimetype": "text/x-python",
   "name": "python",
   "nbconvert_exporter": "python",
   "pygments_lexer": "ipython3",
   "version": "3.13.0"
  }
 },
 "nbformat": 4,
 "nbformat_minor": 2
}
